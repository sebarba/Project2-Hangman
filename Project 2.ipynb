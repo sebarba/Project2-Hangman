{
 "cells": [
  {
   "cell_type": "code",
   "execution_count": 76,
   "metadata": {},
   "outputs": [
    {
     "name": "stdout",
     "output_type": "stream",
     "text": [
      "PLEASE turn your Caps Lock On.\n",
      "-\n",
      "-\n",
      "-\n",
      "-\n",
      "-\n",
      "Guess a letter: Q\n",
      "Q\n",
      "Q\n",
      "-\n",
      "-\n",
      "-\n",
      "Guess a letter: J\n",
      "Q\n",
      "Q\n",
      "J\n",
      "-\n",
      "-\n",
      "Guess a letter: Y\n",
      "Q\n",
      "Q\n",
      "J\n",
      "Y\n",
      "-\n",
      "Guess a letter: F\n",
      "Q\n",
      "Q\n",
      "J\n",
      "Y\n",
      "F\n",
      "YEY!! You guessed the word QQJYF!!!\n",
      "This was the encrypted message.\n",
      "The decrypted message says: \n"
     ]
    }
   ],
   "source": [
    "# HANGMAN GAME\n",
    "import random\n",
    "\n",
    "words = ['WHDSPQZ', 'XHO', 'TTDBFRT', 'QQJYF', 'ENQD', 'DNPK', 'CNTR', 'EHWHOD', 'TSVMOHOF', 'XNOCFQGTM']\n",
    "print(\"PLEASE turn your Caps Lock On.\")\n",
    "word = random.choice(words)  #function will choose a randon word from the list of words\n",
    "\n",
    "guesses = ''      #tracks the number of guesses\n",
    "\n",
    "turns = 10        #number of allowed turns\n",
    "\n",
    "while turns > 0:  #loops the process as long as turn is greater than 0\n",
    "    \n",
    "    failed = 0    #tracks the number of fails\n",
    "    \n",
    "    for char in word:\n",
    "        \n",
    "        if char in guesses:      #comparing the character with the character in guesses\n",
    "            print(char)\n",
    "        else:\n",
    "            print(\"-\")\n",
    "            \n",
    "            failed += 1         #increment by 1 for each failure\n",
    "            \n",
    "    if failed == 0:             #if the user gets all the letters correct with zero failures, \n",
    "         print(f\"YEY!! You guessed the word {word}!!!\" )         #this will print out.\n",
    "            \n",
    "         print(\"This was the encrypted message.\\nThe decrypted message says: \" )\n",
    "         break\n",
    "    \n",
    "    guess = input(\"Guess a letter: \")   #ask for user input aboout guess letter\n",
    "    guesses += guess            #every input is stored in guesses\n",
    "    \n",
    "    if guess not in word:\n",
    "        \n",
    "        turns -= 1              #decrement turns if the letter the user input is incorrect\n",
    "        print(\" \")\n",
    "        print(\">>>>>>>>WRONG!<<<<<<<<\")\n",
    "        print(\" \")\n",
    "        print(f\"Your letter {guess} is not in the word.\")\n",
    "        print(f\"You have {turns} lives left and you used these letters: {guesses}\")\n",
    "        \n",
    "        if turns == 0:                                         #when the user runs out of turns, \n",
    "            print(f\"You died. Sorry. The word was {word}.\")    #this prints out\n",
    "            print(\"You'll have to pass the word correctly to decode the message.\")"
   ]
  },
  {
   "cell_type": "code",
   "execution_count": 73,
   "metadata": {},
   "outputs": [],
   "source": [
    "def encrypt(plaintext):\n",
    "    ciphertext = \"\"\n",
    "    i = 0\n",
    "    for i in range (0, len(plaintext)):\n",
    "        if i % 2 == 0:\n",
    "            plain_ascii = plaintext[i]\n",
    "            cipher_ascii = ord(plain_ascii) + 1\n",
    "            ciphertext = ciphertext + str(chr(cipher_ascii))\n",
    "        else:\n",
    "            plain_ascii = plaintext[i]\n",
    "            chipher_ascii = ord(plain_ascii) - 1\n",
    "            ciphertext = ciphertext + str(chr(cipher_ascii))\n",
    "    return ciphertext"
   ]
  },
  {
   "cell_type": "code",
   "execution_count": 74,
   "metadata": {},
   "outputs": [],
   "source": [
    "def decrypt(ciphertext):\n",
    "    plaintext = \"\"\n",
    "    for i in range (0, len(ciphertext)):\n",
    "        if i % 2 == 0:\n",
    "            plain_ascii = ciphertext[i]\n",
    "            cipher_ascii = ord(plain_ascii) - 1\n",
    "            plaintext = plaintext + str(chr(cipher_ascii))\n",
    "        else:\n",
    "            plain_ascii = ciphertext[i]\n",
    "            cipher_ascii = ord(plain_ascii) + 1\n",
    "            plaintext = plaintext + str(chr(cipher_ascii))\n",
    "    return plaintext"
   ]
  },
  {
   "cell_type": "code",
   "execution_count": null,
   "metadata": {},
   "outputs": [],
   "source": []
  }
 ],
 "metadata": {
  "kernelspec": {
   "display_name": "Python 3",
   "language": "python",
   "name": "python3"
  },
  "language_info": {
   "codemirror_mode": {
    "name": "ipython",
    "version": 3
   },
   "file_extension": ".py",
   "mimetype": "text/x-python",
   "name": "python",
   "nbconvert_exporter": "python",
   "pygments_lexer": "ipython3",
   "version": "3.8.3"
  }
 },
 "nbformat": 4,
 "nbformat_minor": 4
}
